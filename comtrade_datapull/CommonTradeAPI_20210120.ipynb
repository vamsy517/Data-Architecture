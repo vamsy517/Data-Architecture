{
 "cells": [
  {
   "cell_type": "code",
   "execution_count": 1,
   "metadata": {},
   "outputs": [],
   "source": [
    "from comtrade_api import CommonTradeAPI"
   ]
  },
  {
   "cell_type": "code",
   "execution_count": 2,
   "metadata": {},
   "outputs": [],
   "source": [
    "a = CommonTradeAPI(\n",
    "                    save_path='',\n",
    "                    gbq_creds_path='emilfilipov/work/NSMG-DataArchitecture/comtrade_datapull'\n",
    "                )"
   ]
  },
  {
   "cell_type": "code",
   "execution_count": 3,
   "metadata": {
    "scrolled": true
   },
   "outputs": [
    {
     "name": "stdout",
     "output_type": "stream",
     "text": [
      "2021-02-24 08:29:39.737295: GET status: 200; http://comtrade.un.org/api//refs/da/view?\n",
      "2021-02-24 08:29:46.416699: GET status: 200; http://comtrade.un.org/api//refs/da/view?\n",
      "2021-02-24 08:29:50.294534: GET status: 200; http://comtrade.un.org/api//refs/da/view?\n",
      "2021-02-24 08:29:53.658392: GET status: 200; http://comtrade.un.org/api//refs/da/view?\n",
      "2021-02-24 08:29:55.051406: Number of raw requests: 22740\n",
      "\n",
      "2021-02-24 08:30:00.760009: GET status: 200; http://comtrade.un.org/api/get?\n",
      "2021-02-24 08:30:04.790573: GET status: 200; http://comtrade.un.org/api/get?\n",
      "2021-02-24 08:30:07.455564: GET status: 200; http://comtrade.un.org/api/get?\n",
      "2021-02-24 08:30:09.950331: GET status: 200; http://comtrade.un.org/api/get?\n",
      "2021-02-24 08:30:09.987694: Uploading\n",
      "2021-02-24 08:30:10.169598: [Errno 13] Permission denied: '/home/ingest/credentials/gbq_credentials.json'\n",
      "2021-02-24 08:30:14.445466: GET status: 200; http://comtrade.un.org/api/get?\n",
      "2021-02-24 08:30:17.405377: GET status: 200; http://comtrade.un.org/api/get?\n",
      "2021-02-24 08:30:19.976684: GET status: 200; http://comtrade.un.org/api/get?\n",
      "2021-02-24 08:30:21.917271: GET status: 200; http://comtrade.un.org/api/get?\n",
      "2021-02-24 08:30:21.941535: Uploading\n",
      "2021-02-24 08:30:21.942473: [Errno 13] Permission denied: '/home/ingest/credentials/gbq_credentials.json'\n",
      "2021-02-24 08:30:27.396054: GET status: 200; http://comtrade.un.org/api/get?\n",
      "2021-02-24 08:30:31.056559: GET status: 200; http://comtrade.un.org/api/get?\n",
      "2021-02-24 08:30:34.217828: GET status: 200; http://comtrade.un.org/api/get?\n",
      "2021-02-24 08:30:36.155001: GET status: 200; http://comtrade.un.org/api/get?\n",
      "2021-02-24 08:30:36.185161: Uploading\n",
      "2021-02-24 08:30:36.186325: [Errno 13] Permission denied: '/home/ingest/credentials/gbq_credentials.json'\n",
      "2021-02-24 08:30:46.664323: GET status: 200; http://comtrade.un.org/api/get?\n",
      "2021-02-24 08:30:54.269961: GET status: 200; http://comtrade.un.org/api/get?\n",
      "2021-02-24 08:30:57.541882: GET status: 200; http://comtrade.un.org/api/get?\n",
      "2021-02-24 08:31:00.072978: GET status: 200; http://comtrade.un.org/api/get?\n",
      "2021-02-24 08:31:00.124402: Uploading\n",
      "2021-02-24 08:31:00.125919: [Errno 13] Permission denied: '/home/ingest/credentials/gbq_credentials.json'\n",
      "2021-02-24 08:31:32.249348: GET status: 200; http://comtrade.un.org/api/get?\n",
      "2021-02-24 08:31:52.983398: GET status: 200; http://comtrade.un.org/api/get?\n",
      "2021-02-24 08:31:55.551860: GET status: 200; http://comtrade.un.org/api/get?\n",
      "2021-02-24 08:31:57.476974: GET status: 200; http://comtrade.un.org/api/get?\n",
      "2021-02-24 08:31:57.532798: Uploading\n",
      "2021-02-24 08:31:57.534263: [Errno 13] Permission denied: '/home/ingest/credentials/gbq_credentials.json'\n",
      "2021-02-24 08:32:23.288815: GET status: 200; http://comtrade.un.org/api/get?\n",
      "2021-02-24 08:32:40.330573: GET status: 200; http://comtrade.un.org/api/get?\n",
      "2021-02-24 08:32:44.371476: GET status: 200; http://comtrade.un.org/api/get?\n",
      "2021-02-24 08:32:46.501456: GET status: 200; http://comtrade.un.org/api/get?\n",
      "2021-02-24 08:32:46.557668: Uploading\n",
      "2021-02-24 08:32:46.559507: [Errno 13] Permission denied: '/home/ingest/credentials/gbq_credentials.json'\n",
      "2021-02-24 08:32:52.214336: GET status: 200; http://comtrade.un.org/api/get?\n",
      "2021-02-24 08:32:55.946034: GET status: 200; http://comtrade.un.org/api/get?\n",
      "2021-02-24 08:32:58.835874: GET status: 200; http://comtrade.un.org/api/get?\n"
     ]
    },
    {
     "ename": "KeyboardInterrupt",
     "evalue": "",
     "output_type": "error",
     "traceback": [
      "\u001b[0;31m---------------------------------------------------------------------------\u001b[0m",
      "\u001b[0;31mKeyboardInterrupt\u001b[0m                         Traceback (most recent call last)",
      "\u001b[0;32m<ipython-input-3-a5ada0ec0e79>\u001b[0m in \u001b[0;36m<module>\u001b[0;34m\u001b[0m\n\u001b[0;32m----> 1\u001b[0;31m \u001b[0ma\u001b[0m\u001b[0;34m.\u001b[0m\u001b[0mrun\u001b[0m\u001b[0;34m(\u001b[0m\u001b[0;34m)\u001b[0m\u001b[0;34m\u001b[0m\u001b[0;34m\u001b[0m\u001b[0m\n\u001b[0m",
      "\u001b[0;32m~/work/NSMG-DataArchitecture/comtrade_datapull/comtrade_api.py\u001b[0m in \u001b[0;36mrun\u001b[0;34m(self)\u001b[0m\n\u001b[1;32m    355\u001b[0m         \u001b[0mself\u001b[0m\u001b[0;34m.\u001b[0m\u001b[0mget_data_availability\u001b[0m\u001b[0;34m(\u001b[0m\u001b[0;34m)\u001b[0m\u001b[0;34m\u001b[0m\u001b[0;34m\u001b[0m\u001b[0m\n\u001b[1;32m    356\u001b[0m         \u001b[0;31m# Download\u001b[0m\u001b[0;34m\u001b[0m\u001b[0;34m\u001b[0m\u001b[0;34m\u001b[0m\u001b[0m\n\u001b[0;32m--> 357\u001b[0;31m         \u001b[0mself\u001b[0m\u001b[0;34m.\u001b[0m\u001b[0mget_comtrade_data\u001b[0m\u001b[0;34m(\u001b[0m\u001b[0;34m)\u001b[0m\u001b[0;34m\u001b[0m\u001b[0;34m\u001b[0m\u001b[0m\n\u001b[0m\u001b[1;32m    358\u001b[0m \u001b[0;34m\u001b[0m\u001b[0m\n\u001b[1;32m    359\u001b[0m \u001b[0;34m\u001b[0m\u001b[0m\n",
      "\u001b[0;32m~/work/NSMG-DataArchitecture/comtrade_datapull/comtrade_api.py\u001b[0m in \u001b[0;36mget_comtrade_data\u001b[0;34m(self)\u001b[0m\n\u001b[1;32m    260\u001b[0m \u001b[0;34m\u001b[0m\u001b[0m\n\u001b[1;32m    261\u001b[0m             \u001b[0;32mfor\u001b[0m \u001b[0mtraderegime\u001b[0m \u001b[0;32min\u001b[0m \u001b[0;34m[\u001b[0m\u001b[0;34m'1'\u001b[0m\u001b[0;34m,\u001b[0m\u001b[0;34m'2'\u001b[0m\u001b[0;34m,\u001b[0m\u001b[0;34m'3'\u001b[0m\u001b[0;34m,\u001b[0m\u001b[0;34m'4'\u001b[0m\u001b[0;34m]\u001b[0m\u001b[0;34m:\u001b[0m\u001b[0;34m\u001b[0m\u001b[0;34m\u001b[0m\u001b[0m\n\u001b[0;32m--> 262\u001b[0;31m                 \u001b[0msleep\u001b[0m\u001b[0;34m(\u001b[0m\u001b[0;36m1\u001b[0m\u001b[0;34m)\u001b[0m\u001b[0;34m\u001b[0m\u001b[0;34m\u001b[0m\u001b[0m\n\u001b[0m\u001b[1;32m    263\u001b[0m                 get_data_params={\n\u001b[1;32m    264\u001b[0m                                 \u001b[0;34m'url'\u001b[0m\u001b[0;34m:\u001b[0m\u001b[0;34m'http://comtrade.un.org/api/get?'\u001b[0m\u001b[0;34m,\u001b[0m\u001b[0;34m\u001b[0m\u001b[0;34m\u001b[0m\u001b[0m\n",
      "\u001b[0;31mKeyboardInterrupt\u001b[0m: "
     ]
    }
   ],
   "source": [
    "a.run()"
   ]
  }
 ],
 "metadata": {
  "kernelspec": {
   "display_name": "Python 3",
   "language": "python",
   "name": "python3"
  },
  "language_info": {
   "codemirror_mode": {
    "name": "ipython",
    "version": 3
   },
   "file_extension": ".py",
   "mimetype": "text/x-python",
   "name": "python",
   "nbconvert_exporter": "python",
   "pygments_lexer": "ipython3",
   "version": "3.7.6"
  }
 },
 "nbformat": 4,
 "nbformat_minor": 4
}

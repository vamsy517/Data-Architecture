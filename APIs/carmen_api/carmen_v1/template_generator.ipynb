{
 "cells": [
  {
   "cell_type": "code",
   "execution_count": 1,
   "metadata": {},
   "outputs": [],
   "source": [
    "from carmen import CarmenTemplates"
   ]
  },
  {
   "cell_type": "code",
   "execution_count": 2,
   "metadata": {},
   "outputs": [],
   "source": [
    "a = CarmenTemplates()"
   ]
  },
  {
   "cell_type": "code",
   "execution_count": 3,
   "metadata": {
    "scrolled": true
   },
   "outputs": [
    {
     "name": "stdout",
     "output_type": "stream",
     "text": [
      "1\n",
      "2021-02-25 17:23:51.623290: Getting GBQ credentials\n",
      "2021-02-25 17:23:51.626267: Selected String Parameter\n",
      "2021-02-25 17:23:51.626331: Getting CountryIDs\n",
      "2021-02-25 17:23:51.626372: \n",
      "    select CountryID, Country, Region\n",
      "    from project-pulldata.Country.MacroeconomicsListing\n",
      "    where Country = 'Germany'\n",
      "    \n",
      "2021-02-25 17:23:52.508609: Getting Country Indicators\n",
      "2021-02-25 17:23:52.508740: \n",
      "    select CountryID,Indicator,Year,Value\n",
      "    from project-pulldata.Country.MacroYearData\n",
      "    where CountryID = 23424829\n",
      "    and \n",
      "    Indicator in ('Population','Female population','Male population','Proportion of male population','Proportion of female population',\n",
      "    'Total employment','Total unemployment','Employment rate','Unemployment rate','Nominal GDP per capita (USD)',\n",
      "    'Number of students in tertiary education','Number of students in primary education','Number of students in secondary education',\n",
      "    'Public sector finances: Proportion of government education expenditure in GDP','Private healthcare expenditure (USD)',\n",
      "    'Public healthcare expenditure (USD)','Nominal GDP (USD)')\n",
      "    \n",
      "2021-02-25 17:23:53.372826: Getting Country Population Rank\n",
      "2021-02-25 17:23:53.372964: \n",
      "    select CountryID,Indicator,Year,Value\n",
      "    from project-pulldata.Country.MacroYearData\n",
      "    where Indicator in ('Population') and Year = 2021\n",
      "    \n",
      "2021-02-25 17:23:53.799103: Getting Country GDP Rank\n",
      "2021-02-25 17:23:53.799228: \n",
      "    select CountryID,Indicator,Year,Value\n",
      "    from project-pulldata.Country.MacroYearData\n",
      "    where Indicator in ('GDP by income (USD): Gross national income') and Year <= 2021\n",
      "    \n",
      "2021-02-25 17:23:54.739198: Getting Country City Population\n",
      "2021-02-25 17:23:54.739310: \n",
      "    SELECT *\n",
      "    FROM project-pulldata.City.CityYearData AS yeardata \n",
      "    left join project-pulldata.City.CityEconomicsListing as listing using (CityID)\n",
      "    where Country = 'Germany' and\n",
      "    yeardata.Indicator = 'Total population' and\n",
      "    yeardata.Year = 2021\n",
      "    order by Year DESC,Value DESC\n",
      "    \n",
      "2021-02-25 17:23:56.262600: Getting World Bank Report\n",
      "2021-02-25 17:23:56.266403: \n",
      "    select Country, CountryID, Ranking, Rank, ReportYear\n",
      "    from project-pulldata.Country.BusinessWorldBankReport\n",
      "    where Country = 'Germany'\n",
      "    \n",
      "2021-02-25 17:23:58.648683: GET status: 200; https://investmentmonitor.ai/wp-json/wp/v2/region?per_page=100&page=1\n",
      "2021-02-25 17:24:01.439934: GET status: 200; https://investmentmonitor.ai/wp-json/wp/v2/region?per_page=100&page=2\n",
      "2021-02-25 17:24:04.414653: GET status: 200; https://investmentmonitor.ai/wp-json/wp/v2/region?per_page=100&page=3\n",
      "2021-02-25 17:24:04.823671: GET status: 200; https://investmentmonitor.ai/wp-json/wp/v2/region?per_page=100&page=4\n",
      "asd\n",
      "2021-02-25 17:24:04.824435: Getting Country Names\n",
      "2021-02-25 17:24:04.824476: \n",
      "    SELECT * FROM project-pulldata.Country.CountryNameMapping \n",
      "    where Monitors = 'Germany' or GlobalData = 'Germany'\n",
      "    \n"
     ]
    }
   ],
   "source": [
    "country = ['Germany']\n",
    "print(len(country))\n",
    "a.data_pull_gbq(country=country,gdp_growth_years=[2010,2025]) #'Netherlands', \n",
    "\n",
    "#a.data_pull_gbq(country=['United Kingdom','United States','Germany'], gdp_growth_years=[2010,2025])"
   ]
  },
  {
   "cell_type": "code",
   "execution_count": 4,
   "metadata": {
    "scrolled": false
   },
   "outputs": [
    {
     "name": "stdout",
     "output_type": "stream",
     "text": [
      "2021-02-25 17:24:05.692544: Generating Template for Germany\n"
     ]
    }
   ],
   "source": [
    "a.text_generate()"
   ]
  },
  {
   "cell_type": "code",
   "execution_count": 5,
   "metadata": {},
   "outputs": [
    {
     "data": {
      "text/plain": [
       "1"
      ]
     },
     "execution_count": 5,
     "metadata": {},
     "output_type": "execute_result"
    }
   ],
   "source": [
    "len(a.results.keys())"
   ]
  },
  {
   "cell_type": "code",
   "execution_count": 6,
   "metadata": {},
   "outputs": [
    {
     "name": "stdout",
     "output_type": "stream",
     "text": [
      "As of 2021, Germany has a population of 83.4 million, making it the 19th largest country in the world by this measure. There are 49.6% males and 50.4% females.\n",
      "\n",
      "There are 39.3 million people employed in Germany, with an unemployment rate of 4.8% – 2 million people.\n",
      "\n",
      "\n",
      "                    <div id=\"germany-unemployment\" style=\"min-width: 288px; max-width: 900px ;\"></div>\n",
      "                    <script type=\"text/javascript\" src=\"https://pym.nprapps.org/pym.v1.min.js\"></script>\n",
      "                    <script>var pymParent = new pym.Parent(\"germany-unemployment\", \"https://nsmg-projects-public.s3.eu-west-2.amazonaws.com/test/nsmg-051/index.html?c=Germany\", );</script>\n",
      "                    <style>#germany-unemployment iframe { width: 100%}</style>\n",
      "\n",
      "Germany is the forth largest economy in the world with a GDP of $4trn. Germany's GDP has grown by 18% between 2010 and 2021 and is expected to grow by 19% by 2025. \n",
      "\n",
      "As of 2021 there are 3.3 million students in tertiary education in Germany, with 6.9 million students in secondary and 3 million in primary education. Germany spent 4.7% of its GDP on education in 2019.\n",
      "\n",
      "Germany ranked 22nd in the World Bank's Doing Business Report (2020). In the 2019 report it finished 24th. In the World Economic Forum’s Global Competitiveness Report (2019), Germany finished seventh, after ranking seventh in 2018.\n",
      "\n",
      "Public healthcare expenditure totalled $378.9bn and private healthcare expenditure equalled $69.7bn in 2018.\n",
      "\n",
      "The largest urban areas in Germany are Berlin (5.4 million people), Ruhrgebiet (5.1 million) and Berlin City (3.7 million). \n",
      "\n",
      "\n"
     ]
    }
   ],
   "source": [
    "print(a.results[country[0]]['post']['content'])"
   ]
  },
  {
   "cell_type": "code",
   "execution_count": 7,
   "metadata": {},
   "outputs": [],
   "source": [
    "#a.text_publish()"
   ]
  }
 ],
 "metadata": {
  "kernelspec": {
   "display_name": "Python 3",
   "language": "python",
   "name": "python3"
  },
  "language_info": {
   "codemirror_mode": {
    "name": "ipython",
    "version": 3
   },
   "file_extension": ".py",
   "mimetype": "text/x-python",
   "name": "python",
   "nbconvert_exporter": "python",
   "pygments_lexer": "ipython3",
   "version": "3.7.6"
  }
 },
 "nbformat": 4,
 "nbformat_minor": 4
}

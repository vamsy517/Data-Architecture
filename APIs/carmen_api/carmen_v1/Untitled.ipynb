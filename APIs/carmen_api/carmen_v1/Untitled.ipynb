{
 "cells": [
  {
   "cell_type": "code",
   "execution_count": 1,
   "metadata": {},
   "outputs": [],
   "source": [
    "import secrets\n",
    "from datawrapper import Datawrapper\n",
    "\n",
    "from carmen import CarmenTemplates"
   ]
  },
  {
   "cell_type": "code",
   "execution_count": 2,
   "metadata": {},
   "outputs": [],
   "source": [
    "#token = secrets.token_urlsafe(69)"
   ]
  },
  {
   "cell_type": "code",
   "execution_count": 3,
   "metadata": {},
   "outputs": [],
   "source": [
    "#token"
   ]
  },
  {
   "cell_type": "code",
   "execution_count": 4,
   "metadata": {
    "scrolled": true
   },
   "outputs": [
    {
     "name": "stdout",
     "output_type": "stream",
     "text": [
      "2021-02-24 12:16:50.076044: Getting GBQ credentials\n",
      "2021-02-24 12:16:50.080998: Selected String Parameter\n",
      "2021-02-24 12:16:50.086886: Getting CountryIDs\n",
      "2021-02-24 12:16:50.087019: \n",
      "    select CountryID, Country, Region\n",
      "    from project-pulldata.Country.MacroeconomicsListing\n",
      "    where Country = 'Bulgaria'\n",
      "    \n",
      "2021-02-24 12:16:50.642225: Getting Country Indicators\n",
      "2021-02-24 12:16:50.642699: \n",
      "    select CountryID,Indicator,Year,Value\n",
      "    from project-pulldata.Country.MacroYearData\n",
      "    where CountryID = 23424771\n",
      "    and \n",
      "    Indicator in ('Population','Female population','Male population','Proportion of male population','Proportion of female population',\n",
      "    'Total employment','Total unemployment','Employment rate','Unemployment rate','Nominal GDP per capita (USD)',\n",
      "    'Number of students in tertiary education','Number of students in primary education','Number of students in secondary education',\n",
      "    'Public sector finances: Proportion of government education expenditure in GDP','Private healthcare expenditure (USD)',\n",
      "    'Public healthcare expenditure (USD)','GDP by income (USD): Gross national income')\n",
      "    \n",
      "2021-02-24 12:16:51.187914: Getting Country Population Rank\n",
      "2021-02-24 12:16:51.188422: \n",
      "    select CountryID,Indicator,Year,Value\n",
      "    from project-pulldata.Country.MacroYearData\n",
      "    where Indicator in ('Population') and Year = 2021\n",
      "    \n",
      "2021-02-24 12:16:51.628073: Getting Country GDP Rank\n",
      "2021-02-24 12:16:51.628680: \n",
      "    select CountryID,Indicator,Year,Value\n",
      "    from project-pulldata.Country.MacroYearData\n",
      "    where Indicator in ('GDP by income (USD): Gross national income') and Year <= 2021\n",
      "    \n",
      "2021-02-24 12:16:52.839078: Getting Country City Population\n",
      "2021-02-24 12:16:52.839217: \n",
      "    SELECT *\n",
      "    FROM project-pulldata.City.CityYearData AS yeardata \n",
      "    left join project-pulldata.City.CityEconomicsListing as listing using (CityID)\n",
      "    where Country = 'Bulgaria' and\n",
      "    yeardata.Indicator = 'Total population' and\n",
      "    yeardata.Year = 2021\n",
      "    order by Year DESC,Value DESC\n",
      "    \n",
      "2021-02-24 12:16:53.347450: Getting World Bank Report\n",
      "2021-02-24 12:16:53.347904: \n",
      "    select Country, CountryID, Ranking, Rank, ReportYear\n",
      "    from project-pulldata.Country.BusinessWorldBankReport\n",
      "    where Country = 'Bulgaria'\n",
      "    \n",
      "2021-02-24 12:16:57.573472: GET status: 200; https://investmentmonitor.ai/wp-json/wp/v2/region?per_page=100&page=1\n",
      "2021-02-24 12:17:00.053816: GET status: 200; https://investmentmonitor.ai/wp-json/wp/v2/region?per_page=100&page=2\n",
      "2021-02-24 12:17:04.291684: GET status: 200; https://investmentmonitor.ai/wp-json/wp/v2/region?per_page=100&page=3\n",
      "2021-02-24 12:17:04.547903: GET status: 200; https://investmentmonitor.ai/wp-json/wp/v2/region?per_page=100&page=4\n",
      "asd\n",
      "2021-02-24 12:17:04.548648: Getting Country Names\n",
      "2021-02-24 12:17:04.548674: \n",
      "    SELECT * FROM project-pulldata.Country.CountryNameMapping \n",
      "    where Monitors = 'Bulgaria' or GlobalData = 'Bulgaria'\n",
      "    \n"
     ]
    }
   ],
   "source": [
    "a = CarmenTemplates()\n",
    "country = ['Bulgaria']\n",
    "a.data_pull_gbq(country=country,gdp_growth_years=[2010,2025])"
   ]
  },
  {
   "cell_type": "code",
   "execution_count": 5,
   "metadata": {},
   "outputs": [],
   "source": [
    "dw = Datawrapper(access_token = \"MY2EMQsgI06HQHsvASwRSVYJWrgLJQ1SyS4BwAbHkA2OAnCrrGrbkPqBCMulyIr4\")\n",
    "# MY2EMQsgI06HQHsvASwRSVYJWrgLJQ1SyS4BwAbHkA2OAnCrrGrbkPqBCMulyIr4\n",
    "# 5wAS1IlaYiFY9hUwTNgoMP5XNwzuBJX4Ozqn0GtNXu206Co7I6nGeQtRSTVOKIG6"
   ]
  },
  {
   "cell_type": "code",
   "execution_count": 6,
   "metadata": {},
   "outputs": [
    {
     "data": {
      "text/plain": [
       "{'id': 297135,\n",
       " 'email': 'Yavor.Vrachev@ns-mediagroup.com',\n",
       " 'name': None,\n",
       " 'role': 'editor',\n",
       " 'language': 'en-US',\n",
       " 'chartCount': 1,\n",
       " 'url': '/v3/users/297135'}"
      ]
     },
     "execution_count": 6,
     "metadata": {},
     "output_type": "execute_result"
    }
   ],
   "source": [
    "dw.account_info()"
   ]
  },
  {
   "cell_type": "code",
   "execution_count": 7,
   "metadata": {},
   "outputs": [],
   "source": [
    "asd = a.country_indicators[a.country_indicators['Indicator']=='Population'].copy()\n",
    "asd = asd[['Year','Value']]\n",
    "#asd.index = asd['Year']\n",
    "#asd.drop('Year',)"
   ]
  },
  {
   "cell_type": "code",
   "execution_count": 8,
   "metadata": {},
   "outputs": [
    {
     "name": "stdout",
     "output_type": "stream",
     "text": [
      "New chart d3-lines created!\n"
     ]
    }
   ],
   "source": [
    "chart = dw.create_chart(title = \"Bulgaria's Population Over Time\", \n",
    "                                   chart_type = 'd3-lines', \n",
    "                                   data = asd)"
   ]
  },
  {
   "cell_type": "code",
   "execution_count": 9,
   "metadata": {},
   "outputs": [
    {
     "data": {
      "text/plain": [
       "{'publicId': 'bfnfy',\n",
       " 'language': 'en-US',\n",
       " 'theme': 'default',\n",
       " 'title': \"Bulgaria's Population Over Time\",\n",
       " 'type': 'd3-lines',\n",
       " 'metadata': {'data': {}},\n",
       " 'authorId': 297135,\n",
       " 'id': 'bfnfy',\n",
       " 'lastModifiedAt': '2021-02-24T12:17:06.468Z',\n",
       " 'createdAt': '2021-02-24T12:17:06.468Z',\n",
       " 'url': '/v3/charts/bfnfy'}"
      ]
     },
     "execution_count": 9,
     "metadata": {},
     "output_type": "execute_result"
    }
   ],
   "source": [
    "chart"
   ]
  },
  {
   "cell_type": "code",
   "execution_count": 10,
   "metadata": {},
   "outputs": [
    {
     "name": "stderr",
     "output_type": "stream",
     "text": [
      "/home/vvalchev/anaconda3/lib/python3.7/site-packages/IPython/core/display.py:701: UserWarning: Consider using IPython.display.IFrame instead\n",
      "  warnings.warn(\"Consider using IPython.display.IFrame instead\")\n"
     ]
    },
    {
     "data": {
      "text/html": [
       "<iframe title=\"Bulgaria's Population Over Time\" aria-label=\"Interactive line chart\" id=\"datawrapper-chart-bfnfy\" src=\"https://datawrapper.dwcdn.net/bfnfy/1/\" scrolling=\"no\" frameborder=\"0\" style=\"border: none;\" width=\"undefined\" height=\"undefined\"></iframe>"
      ],
      "text/plain": [
       "<IPython.core.display.HTML object>"
      ]
     },
     "execution_count": 10,
     "metadata": {},
     "output_type": "execute_result"
    }
   ],
   "source": [
    "dw.publish_chart(chart_id = chart['id'])"
   ]
  },
  {
   "cell_type": "code",
   "execution_count": 11,
   "metadata": {},
   "outputs": [
    {
     "data": {
      "text/plain": [
       "[{'publicId': 'bfnfy',\n",
       "  'language': 'en_US',\n",
       "  'theme': 'datawrapper',\n",
       "  'id': 'bfnfy',\n",
       "  'title': \"Bulgaria's Population Over Time\",\n",
       "  'type': 'd3-lines',\n",
       "  'createdAt': '2021-02-24T12:17:06.000Z',\n",
       "  'lastModifiedAt': '2021-02-24T12:17:10.000Z',\n",
       "  'publicVersion': 1,\n",
       "  'thumbnails': {'full': '//img.datawrapper.de/bfnfy/6fc722ca5bd66c7fb37d6d5ba4194013/full.png',\n",
       "   'plain': '//img.datawrapper.de/bfnfy/6fc722ca5bd66c7fb37d6d5ba4194013/plain.png'},\n",
       "  'url': '/v3/charts/bfnfy'},\n",
       " {'publicId': 'ArrLG',\n",
       "  'language': 'en_US',\n",
       "  'theme': 'datawrapper',\n",
       "  'id': 'ArrLG',\n",
       "  'title': \"Bulgaria's Population Over Time\",\n",
       "  'type': 'd3-lines',\n",
       "  'createdAt': '2021-02-24T12:09:50.000Z',\n",
       "  'lastModifiedAt': '2021-02-24T12:13:02.000Z',\n",
       "  'publicVersion': 1,\n",
       "  'thumbnails': {'full': '//img.datawrapper.de/ArrLG/2b59e9686d7d480c848a0932061cae22/full.png',\n",
       "   'plain': '//img.datawrapper.de/ArrLG/2b59e9686d7d480c848a0932061cae22/plain.png'},\n",
       "  'url': '/v3/charts/ArrLG'}]"
      ]
     },
     "execution_count": 11,
     "metadata": {},
     "output_type": "execute_result"
    }
   ],
   "source": [
    "dw.get_charts()"
   ]
  },
  {
   "cell_type": "code",
   "execution_count": 13,
   "metadata": {},
   "outputs": [
    {
     "data": {
      "text/html": [
       "<iframe title=\"Bulgaria's Population Over Time\" aria-label=\"Interactive line chart\" id=\"datawrapper-chart-bfnfy\" src=\"https://datawrapper.dwcdn.net/bfnfy/1/\" scrolling=\"no\" frameborder=\"0\" style=\"border: none;\" width=\"undefined\" height=\"undefined\"></iframe>"
      ],
      "text/plain": [
       "<IPython.core.display.HTML object>"
      ]
     },
     "execution_count": 13,
     "metadata": {},
     "output_type": "execute_result"
    }
   ],
   "source": [
    "dw.display_chart(chart['id'])"
   ]
  },
  {
   "cell_type": "code",
   "execution_count": 14,
   "metadata": {},
   "outputs": [
    {
     "data": {
      "text/plain": [
       "'<iframe title=\"Bulgaria\\'s Population Over Time\" aria-label=\"Interactive line chart\" id=\"datawrapper-chart-bfnfy\" src=\"https://datawrapper.dwcdn.net/bfnfy/1/\" scrolling=\"no\" frameborder=\"0\" style=\"border: none;\" width=\"undefined\" height=\"undefined\"></iframe>'"
      ]
     },
     "execution_count": 14,
     "metadata": {},
     "output_type": "execute_result"
    }
   ],
   "source": [
    "dw.get_iframe_code(chart['id'])"
   ]
  }
 ],
 "metadata": {
  "kernelspec": {
   "display_name": "Python 3",
   "language": "python",
   "name": "python3"
  },
  "language_info": {
   "codemirror_mode": {
    "name": "ipython",
    "version": 3
   },
   "file_extension": ".py",
   "mimetype": "text/x-python",
   "name": "python",
   "nbconvert_exporter": "python",
   "pygments_lexer": "ipython3",
   "version": "3.7.6"
  }
 },
 "nbformat": 4,
 "nbformat_minor": 4
}

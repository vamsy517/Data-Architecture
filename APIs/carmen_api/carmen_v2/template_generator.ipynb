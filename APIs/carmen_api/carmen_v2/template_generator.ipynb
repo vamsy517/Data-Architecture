{
 "cells": [
  {
   "cell_type": "code",
   "execution_count": 1,
   "metadata": {},
   "outputs": [],
   "source": [
    "from carmen import CarmenTemplates"
   ]
  },
  {
   "cell_type": "code",
   "execution_count": 2,
   "metadata": {},
   "outputs": [],
   "source": [
    "a = CarmenTemplates()"
   ]
  },
  {
   "cell_type": "markdown",
   "metadata": {},
   "source": [
    "{function|params}\n",
    "{value|indicator|year} - done\n",
    "{year|indicator|year} - done\n",
    "{rank|indicator|year}\n",
    "{rank_rev|indicator|year}\n",
    "{growth|indicator|year1,year2}\n",
    "{growth_rank|indicator|year1,year2}"
   ]
  },
  {
   "cell_type": "code",
   "execution_count": 3,
   "metadata": {},
   "outputs": [],
   "source": [
    "test_text = '''Population of country_ is {value|Population|2020} as of {year|Population|2020}.\n",
    "\n",
    "{rank|indicator|year}\n",
    "{rank_rev|indicator|year}\n",
    "{growth|indicator|year1,year2}\n",
    "{growth_rank|indicator|year1,year2}\n",
    "{title|This is a title about country_ as of year_}\n",
    "{description|This is a description about country_ as of date_}'''"
   ]
  },
  {
   "cell_type": "code",
   "execution_count": 4,
   "metadata": {},
   "outputs": [
    {
     "name": "stdout",
     "output_type": "stream",
     "text": [
      "2021-02-25 14:08:02.021625: Run parameters: \n",
      "{'text': 'Population of country_ is {value|Population|2020} as of {year|Population|2020}.\\n\\n{rank|indicator|year}\\n{rank_rev|indicator|year}\\n{growth|indicator|year1,year2}\\n{growth_rank|indicator|year1,year2}\\n{title|This is a title about country_ as of year_}\\n{description|This is a description about country_ as of date_}', 'year': 2021, 'date': '2021-02-25', 'dataset': 'country', 'create_wp': 'no', 'sortby': 'Population', 'country_list': 'G20'}\n"
     ]
    }
   ],
   "source": [
    "a.get_params(dataset='country', country_list='G20', text=test_text)#, sortby='Population', create_wp='no')"
   ]
  },
  {
   "cell_type": "code",
   "execution_count": 5,
   "metadata": {},
   "outputs": [
    {
     "name": "stdout",
     "output_type": "stream",
     "text": [
      "2021-02-25 14:08:02.027139: \n",
      "    select Country,AutoName,CountryID,Indicator,code,Year,Value\n",
      "    from project-pulldata.Country.MacroYearData a\n",
      "    left join project-pulldata.Country.IndicatorMap b using(Indicator)\n",
      "    left join project-pulldata.Country.MacroeconomicsListing c using (CountryID)\n",
      "    left join project-pulldata.Country.CountryNameMapping d on Country = GlobalData\n",
      "    where Year >= 2000\n",
      "    --{country_where_filter}\n",
      "    --and Year <= {year} and\n",
      "    --(Indicator in {indicators} or code in {indicators})\n",
      "    \n",
      "2021-02-25 14:08:02.027299: Getting GBQ credentials\n"
     ]
    }
   ],
   "source": [
    "a.get_data()"
   ]
  },
  {
   "cell_type": "code",
   "execution_count": 6,
   "metadata": {},
   "outputs": [
    {
     "name": "stdout",
     "output_type": "stream",
     "text": [
      "2021-02-25 14:08:10.929297: Found Number Of Sections: 8\n",
      "2021-02-25 14:08:10.933647: Found Sections: ['{value|Population|2020}', '{year|Population|2020}', '{rank|indicator|year}', '{rank_rev|indicator|year}', '{growth|indicator|year1,year2}', '{growth_rank|indicator|year1,year2}', '{title|This is a title about country_ as of year_}', '{description|This is a description about country_ as of date_}']\n"
     ]
    }
   ],
   "source": [
    "a.get_functions_from_text()"
   ]
  },
  {
   "cell_type": "code",
   "execution_count": 7,
   "metadata": {},
   "outputs": [
    {
     "ename": "KeyError",
     "evalue": "'country'",
     "output_type": "error",
     "traceback": [
      "\u001b[0;31m---------------------------------------------------------------------------\u001b[0m",
      "\u001b[0;31mKeyError\u001b[0m                                  Traceback (most recent call last)",
      "\u001b[0;32m<ipython-input-7-a456259385f7>\u001b[0m in \u001b[0;36m<module>\u001b[0;34m\u001b[0m\n\u001b[0;32m----> 1\u001b[0;31m \u001b[0ma\u001b[0m\u001b[0;34m.\u001b[0m\u001b[0mget_values_from_functions\u001b[0m\u001b[0;34m(\u001b[0m\u001b[0;34m)\u001b[0m\u001b[0;34m\u001b[0m\u001b[0;34m\u001b[0m\u001b[0m\n\u001b[0m",
      "\u001b[0;32m~/work/NSMG-DataArchitecture/APIs/carmen_api/carmen_v2/carmen.py\u001b[0m in \u001b[0;36mget_values_from_functions\u001b[0;34m(self)\u001b[0m\n\u001b[1;32m    309\u001b[0m \u001b[0;34m\u001b[0m\u001b[0m\n\u001b[1;32m    310\u001b[0m             \u001b[0;32mif\u001b[0m \u001b[0mfunction_info\u001b[0m\u001b[0;34m[\u001b[0m\u001b[0;36m0\u001b[0m\u001b[0;34m]\u001b[0m \u001b[0;34m==\u001b[0m \u001b[0;34m'value'\u001b[0m\u001b[0;34m:\u001b[0m\u001b[0;34m\u001b[0m\u001b[0;34m\u001b[0m\u001b[0m\n\u001b[0;32m--> 311\u001b[0;31m                 \u001b[0mindicator_value\u001b[0m \u001b[0;34m=\u001b[0m \u001b[0mself\u001b[0m\u001b[0;34m.\u001b[0m\u001b[0mget_raw_value\u001b[0m\u001b[0;34m(\u001b[0m\u001b[0mindicator\u001b[0m\u001b[0;34m=\u001b[0m\u001b[0mfunction_info\u001b[0m\u001b[0;34m[\u001b[0m\u001b[0;36m1\u001b[0m\u001b[0;34m]\u001b[0m\u001b[0;34m,\u001b[0m\u001b[0myear\u001b[0m\u001b[0;34m=\u001b[0m\u001b[0mfunction_info\u001b[0m\u001b[0;34m[\u001b[0m\u001b[0;36m2\u001b[0m\u001b[0;34m]\u001b[0m\u001b[0;34m)\u001b[0m\u001b[0;34m\u001b[0m\u001b[0;34m\u001b[0m\u001b[0m\n\u001b[0m\u001b[1;32m    312\u001b[0m             \u001b[0;32melif\u001b[0m \u001b[0mfunction_info\u001b[0m\u001b[0;34m[\u001b[0m\u001b[0;36m0\u001b[0m\u001b[0;34m]\u001b[0m \u001b[0;34m==\u001b[0m \u001b[0;34m'year'\u001b[0m\u001b[0;34m:\u001b[0m\u001b[0;34m\u001b[0m\u001b[0;34m\u001b[0m\u001b[0m\n\u001b[1;32m    313\u001b[0m                 \u001b[0mindicator_value\u001b[0m \u001b[0;34m=\u001b[0m \u001b[0mself\u001b[0m\u001b[0;34m.\u001b[0m\u001b[0mget_raw_year\u001b[0m\u001b[0;34m(\u001b[0m\u001b[0mindicator\u001b[0m\u001b[0;34m=\u001b[0m\u001b[0mfunction_info\u001b[0m\u001b[0;34m[\u001b[0m\u001b[0;36m1\u001b[0m\u001b[0;34m]\u001b[0m\u001b[0;34m,\u001b[0m\u001b[0myear\u001b[0m\u001b[0;34m=\u001b[0m\u001b[0mfunction_info\u001b[0m\u001b[0;34m[\u001b[0m\u001b[0;36m2\u001b[0m\u001b[0;34m]\u001b[0m\u001b[0;34m)\u001b[0m\u001b[0;34m\u001b[0m\u001b[0;34m\u001b[0m\u001b[0m\n",
      "\u001b[0;32m~/work/NSMG-DataArchitecture/APIs/carmen_api/carmen_v2/carmen.py\u001b[0m in \u001b[0;36mget_raw_value\u001b[0;34m(self, indicator, year)\u001b[0m\n\u001b[1;32m    325\u001b[0m         \u001b[0;32mif\u001b[0m \u001b[0mself\u001b[0m\u001b[0;34m.\u001b[0m\u001b[0mrun_params\u001b[0m\u001b[0;34m[\u001b[0m\u001b[0;34m'dataset'\u001b[0m\u001b[0;34m]\u001b[0m \u001b[0;34m==\u001b[0m \u001b[0;34m'country'\u001b[0m\u001b[0;34m:\u001b[0m\u001b[0;34m\u001b[0m\u001b[0;34m\u001b[0m\u001b[0m\n\u001b[1;32m    326\u001b[0m             \u001b[0mdf_tmp\u001b[0m \u001b[0;34m=\u001b[0m \u001b[0mself\u001b[0m\u001b[0;34m.\u001b[0m\u001b[0mdf_main\u001b[0m\u001b[0;34m.\u001b[0m\u001b[0mcopy\u001b[0m\u001b[0;34m(\u001b[0m\u001b[0;34m)\u001b[0m\u001b[0;34m\u001b[0m\u001b[0;34m\u001b[0m\u001b[0m\n\u001b[0;32m--> 327\u001b[0;31m             \u001b[0mdf_tmp\u001b[0m \u001b[0;34m=\u001b[0m \u001b[0mdf_tmp\u001b[0m\u001b[0;34m[\u001b[0m\u001b[0mdf_tmp\u001b[0m\u001b[0;34m[\u001b[0m\u001b[0;34m'Country'\u001b[0m\u001b[0;34m]\u001b[0m\u001b[0;34m==\u001b[0m\u001b[0mself\u001b[0m\u001b[0;34m.\u001b[0m\u001b[0mrun_params\u001b[0m\u001b[0;34m[\u001b[0m\u001b[0;34m'country'\u001b[0m\u001b[0;34m]\u001b[0m \u001b[0;32mand\u001b[0m \u001b[0mdf_tmp\u001b[0m\u001b[0;34m[\u001b[0m\u001b[0;34m'Indicator'\u001b[0m\u001b[0;34m]\u001b[0m\u001b[0;34m==\u001b[0m\u001b[0mindicator\u001b[0m \u001b[0;32mand\u001b[0m \u001b[0mdf_tmp\u001b[0m\u001b[0;34m[\u001b[0m\u001b[0;34m'Year'\u001b[0m\u001b[0;34m]\u001b[0m\u001b[0;34m==\u001b[0m\u001b[0myear\u001b[0m\u001b[0;34m]\u001b[0m\u001b[0;34m\u001b[0m\u001b[0;34m\u001b[0m\u001b[0m\n\u001b[0m\u001b[1;32m    328\u001b[0m \u001b[0;34m\u001b[0m\u001b[0m\n\u001b[1;32m    329\u001b[0m             \u001b[0;32mif\u001b[0m \u001b[0mlen\u001b[0m\u001b[0;34m(\u001b[0m\u001b[0mdf_tmp\u001b[0m\u001b[0;34m)\u001b[0m\u001b[0;34m>\u001b[0m\u001b[0;36m0\u001b[0m\u001b[0;34m:\u001b[0m\u001b[0;34m\u001b[0m\u001b[0;34m\u001b[0m\u001b[0m\n",
      "\u001b[0;31mKeyError\u001b[0m: 'country'"
     ]
    }
   ],
   "source": [
    "a.get_values_from_functions()"
   ]
  },
  {
   "cell_type": "code",
   "execution_count": null,
   "metadata": {},
   "outputs": [],
   "source": [
    "a.function_value_dict"
   ]
  },
  {
   "cell_type": "raw",
   "metadata": {},
   "source": [
    "text = \"\"\"The economy of country_ is back to pre-pandemic levels - or close to them - across three out of five key indicators, according to analysis of data across the G20 by Investment Monitor. This puts country_ ahead of the average G20 participant.\n",
    "\n",
    "The indicators that paint the most promising picture for country_ are GDP, inflation and PMI. One other indicator (trade) is on track to recovery. One indicator (unemployment) is still some way off pre-Covid-19 levels.\n",
    "\n",
    "Across the G20, the countries closest to a full recovery are Australia, China and Germany, while Brazil, South Africa and Japan are at the bottom of the rankings. You can see the full rankings on our hub page << hyperlink here.\n",
    "\n",
    "Covid-19 has created a lasting economic contraction across the world, leading to significant downturns in industries like tourism, hospitality and manufacturing.\n",
    "\n",
    "This has led to a rise in unemployment in those industries and a fall in trade in some countries, which have subsequently led to a fall in confidence among investors and managers, as well as wider macro-economic decline.\n",
    "\n",
    "<< H4 How is country_'s GDP expected to recover?\n",
    "\n",
    "The economy of country_ contracted by gdp_percent_change_19_20 4.2% in 2020, making it the gdp_20_change_rank 15th worst GDP performance among the G20 group of countries.\n",
    "\n",
    "GlobalData estimates show country_ is on track to gdp_score fully recover this loss in 2021, with the economy expected to be gdp_percent_change_19_21 0.3% larger at the end of this year compared to pre-Covid levels, the gdp_21_change_rank sixth biggest recovery among G20 countries.\n",
    "\n",
    "<< VIZ 1\n",
    "<< VIZ 2\n",
    "\n",
    "<< H4 How has Covid-19 affected inflation in country_?\n",
    "\n",
    "country_ has experienced inflation_percent_change_baseline_20 a decrease in inflation of inflation_percent_change_baseline_20 0.4 percentage points, from an average of inflation_baseline 1.56% in the five years to 2019 to inflation_2020 1.15% in 2020. This was the inflation_20_change_rank eighth biggest change, positive or negative, in consumer price inflation among the G20. By 2021, inflation was at inflation_percent_change_baseline_21 0.7% above the baseline, the inflation_21_change_rank third biggest change from pre-pandemic levels.\n",
    "\n",
    "While inflation is yet to radically change in many countries and economists disagree on the effect the pandemic will have on the numbers, they agree that investors should brace for a change.\n",
    "\n",
    "<< VIZ 3\n",
    "<< VIZ 4\n",
    "\n",
    "<< H4 How is unemployment in country_ been affected by Covid-19?\n",
    "\n",
    "In terms, of unemployment, country_ experienced the unemployment_20_change_rank fourth highest labour force market contraction among the G20 group, from an average unemployment rate of around unemployment_baseline 4.4% between 2015-2019 to unemployment_2020 8.8% in 2020.\n",
    "\n",
    "That figure shows country_ is unemployment_score not close to full recovery yet according to GlobalData estimates, which puts the unemployment figure estimate in 2021 at unemployment_2021 7.9%, the unemployment_21_change_rank second highest increase from pre-pandemic levels among the G20 economies.\n",
    "\n",
    "<< VIZ 5\n",
    "<< VIZ 6\n",
    "\n",
    "<< H4 How has country_'s trade been affected by Covid-19?\n",
    "\n",
    "country_ is trade_score yet to fully recover to the level of pre-pandemic trade. Figures from the World Trade Organisation show that in the three months to trade_last_month November 2020, exports and imports of goods and services in selected economies were trade_percent_change 4.5% down compared to an average of the same three months in the previous five years.\n",
    "\n",
    "In the G20, trade_change_rank - 1 five other countries had a poorer performance between pre-pandemic and recent trade levels than country_.\n",
    "\n",
    "<< VIZ 7\n",
    "\n",
    "<< H4 How optimistic are country_'s PMI figures?\n",
    "\n",
    "One useful indicator economists use to track a country's economic health is the Purchasing Managers' Index (PMI), a figure derived from surveys of the private sector. Scores above 50 indicate a generally optimistic mood, while scores below 50 indicate pessimism.\n",
    "\n",
    "country_ currently scores high compared to its peers in the G20, with a score of 59.2 compared to an average of 53.4.\n",
    "\n",
    "<< VIZ 8\n",
    "\n",
    "We'll be tracking the economic performance of country_ on this page on a monthly basis and updating our charts and rankings as the data comes in. \n",
    "\n",
    "<< Italics Data last updated on date_.\n",
    "\n",
    "{title|Tracking the Covid-19 economic recovery in country_}{description|This is a description about country_}\"\"\"\n",
    "a.text_parse_tags(text=text)"
   ]
  },
  {
   "cell_type": "raw",
   "metadata": {},
   "source": [
    "print(a.indicators_general)\n",
    "print(a.indicators_databased)"
   ]
  },
  {
   "cell_type": "code",
   "execution_count": null,
   "metadata": {},
   "outputs": [],
   "source": [
    "#a.get_params(country_list='United States', create_wp='yes', sortby='Population', dataset='country')"
   ]
  },
  {
   "cell_type": "code",
   "execution_count": null,
   "metadata": {},
   "outputs": [],
   "source": [
    "#a.get_wp_regions()"
   ]
  },
  {
   "cell_type": "code",
   "execution_count": null,
   "metadata": {
    "scrolled": true
   },
   "outputs": [],
   "source": [
    "#a.get_data_gbq_limited()"
   ]
  },
  {
   "cell_type": "code",
   "execution_count": null,
   "metadata": {
    "scrolled": false
   },
   "outputs": [],
   "source": [
    "#a.text_loop()"
   ]
  },
  {
   "cell_type": "code",
   "execution_count": null,
   "metadata": {},
   "outputs": [],
   "source": [
    "#print(a.results['United States']['post']['content'])"
   ]
  },
  {
   "cell_type": "code",
   "execution_count": null,
   "metadata": {},
   "outputs": [],
   "source": [
    "#a.results['United States']['post']"
   ]
  },
  {
   "cell_type": "code",
   "execution_count": null,
   "metadata": {},
   "outputs": [],
   "source": [
    "#a.run_params"
   ]
  },
  {
   "cell_type": "code",
   "execution_count": null,
   "metadata": {},
   "outputs": [],
   "source": [
    "#a.text_publish()"
   ]
  },
  {
   "cell_type": "code",
   "execution_count": null,
   "metadata": {},
   "outputs": [],
   "source": [
    "#a.country_text_indicators_info"
   ]
  },
  {
   "cell_type": "code",
   "execution_count": null,
   "metadata": {},
   "outputs": [],
   "source": [
    "#print(a.country_text)"
   ]
  },
  {
   "cell_type": "code",
   "execution_count": null,
   "metadata": {},
   "outputs": [],
   "source": [
    "#a.results"
   ]
  }
 ],
 "metadata": {
  "kernelspec": {
   "display_name": "Python 3",
   "language": "python",
   "name": "python3"
  },
  "language_info": {
   "codemirror_mode": {
    "name": "ipython",
    "version": 3
   },
   "file_extension": ".py",
   "mimetype": "text/x-python",
   "name": "python",
   "nbconvert_exporter": "python",
   "pygments_lexer": "ipython3",
   "version": "3.7.6"
  }
 },
 "nbformat": 4,
 "nbformat_minor": 4
}

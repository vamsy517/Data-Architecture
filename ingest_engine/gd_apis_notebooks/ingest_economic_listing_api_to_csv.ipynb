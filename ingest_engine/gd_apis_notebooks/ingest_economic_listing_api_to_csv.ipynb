{
 "cells": [
  {
   "cell_type": "code",
   "execution_count": null,
   "metadata": {},
   "outputs": [],
   "source": [
    "import pandas as pd\n",
    "import requests\n",
    "\n",
    "# set the API call parameters - we need to get the Listing here - only the list of items and their id, in a table\n",
    "\n",
    "# we start with the City data\n",
    "api = 'GetCityEconomicsListing'\n",
    "name = 'ns_media'\n",
    "token_id = 'F5B59B09E77E41078ADB='\n",
    "\n",
    "# instantiate an empty dataframe\n",
    "cities_df = pd.DataFrame()\n",
    "\n",
    "# in a loop over the 31 pages of the API results, fill the dataframe with the respective resutls\n",
    "for page in range(1, 32):\n",
    "    # apply the complete API call url\n",
    "    url = f'http://apidata.globaldata.com/EconomicsNSMG/api/Content/{api}?PageNumber={page}&DisplayName={name}&TokenId={token_id}'\n",
    "    # GET the response json\n",
    "    response = requests.get(url).json()\n",
    "    # parse the JSON to a pandas dataframe\n",
    "    curr_df = pd.DataFrame.from_dict(response['CityDetails'])\n",
    "    # fill the dataframe above with each response\n",
    "    cities_df = pd.concat([cities_df, curr_df])"
   ]
  },
  {
   "cell_type": "code",
   "execution_count": 4,
   "metadata": {},
   "outputs": [],
   "source": [
    "import pandas_gbq\n",
    "from google.oauth2 import service_account\n",
    "\n",
    "# set up the access to the GCP database, where we will store the listing data\n",
    "keyfile='../../Data/project-pulldata-a0e9dfe25409.json'\n",
    "project_id = 'project-pulldata'\n",
    "\n",
    "credentials = service_account.Credentials.from_service_account_file(\n",
    "    keyfile,\n",
    ")\n",
    "\n",
    "pandas_gbq.context.credentials = credentials\n",
    "pandas_gbq.context.project = project_id"
   ]
  },
  {
   "cell_type": "code",
   "execution_count": 5,
   "metadata": {},
   "outputs": [
    {
     "name": "stderr",
     "output_type": "stream",
     "text": [
      "1it [00:06,  6.09s/it]\n"
     ]
    }
   ],
   "source": [
    "# upload the dataframe to GCP\n",
    "cities_df.to_gbq(destination_table='City.CityEconomicsListing', project_id = project_id, if_exists = 'fail')"
   ]
  },
  {
   "cell_type": "code",
   "execution_count": 8,
   "metadata": {},
   "outputs": [],
   "source": [
    "# repeat for the country data\n",
    "api = 'GetMacroeconomicsListing'\n",
    "name = 'ns_media'\n",
    "token_id = 'F5B59B09E77E41078ADB='\n",
    "\n",
    "countries_df = pd.DataFrame()\n",
    "\n",
    "for page in range(1, 4):\n",
    "    url = f'http://apidata.globaldata.com/EconomicsNSMG/api/Content/{api}?PageNumber={page}&DisplayName={name}&TokenId={token_id}'\n",
    "    response = requests.get(url).json()\n",
    "    curr_df = pd.DataFrame.from_dict(response['CountryDetails'])\n",
    "    countries_df = pd.concat([countries_df, curr_df])"
   ]
  },
  {
   "cell_type": "code",
   "execution_count": 10,
   "metadata": {},
   "outputs": [
    {
     "name": "stderr",
     "output_type": "stream",
     "text": [
      "1it [00:01,  1.96s/it]\n"
     ]
    }
   ],
   "source": [
    "countries_df.to_gbq(destination_table='Country.MacroeconomicsListing', project_id = project_id, if_exists = 'fail')"
   ]
  },
  {
   "cell_type": "code",
   "execution_count": null,
   "metadata": {},
   "outputs": [],
   "source": []
  }
 ],
 "metadata": {
  "kernelspec": {
   "display_name": "Python 3",
   "language": "python",
   "name": "python3"
  },
  "language_info": {
   "codemirror_mode": {
    "name": "ipython",
    "version": 3
   },
   "file_extension": ".py",
   "mimetype": "text/x-python",
   "name": "python",
   "nbconvert_exporter": "python",
   "pygments_lexer": "ipython3",
   "version": "3.7.6"
  }
 },
 "nbformat": 4,
 "nbformat_minor": 4
}
